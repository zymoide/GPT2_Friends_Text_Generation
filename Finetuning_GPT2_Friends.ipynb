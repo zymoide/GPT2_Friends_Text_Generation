{
  "nbformat": 4,
  "nbformat_minor": 0,
  "metadata": {
    "colab": {
      "name": "Finetuning_GPT2_Friends.ipynb",
      "provenance": [],
      "collapsed_sections": [],
      "machine_shape": "hm",
      "authorship_tag": "ABX9TyPNHNOSks/U4JCWb+W1mZO4",
      "include_colab_link": true
    },
    "kernelspec": {
      "display_name": "Python 3",
      "name": "python3"
    },
    "language_info": {
      "name": "python"
    },
    "accelerator": "TPU"
  },
  "cells": [
    {
      "cell_type": "markdown",
      "metadata": {
        "id": "view-in-github",
        "colab_type": "text"
      },
      "source": [
        "<a href=\"https://colab.research.google.com/github/zymoide/GPT2_Friends_Text_Generation/blob/main/Finetuning_GPT2_Friends.ipynb\" target=\"_parent\"><img src=\"https://colab.research.google.com/assets/colab-badge.svg\" alt=\"Open In Colab\"/></a>"
      ]
    },
    {
      "cell_type": "code",
      "metadata": {
        "colab": {
          "base_uri": "https://localhost:8080/"
        },
        "id": "qxeFueoOt7yX",
        "outputId": "455b2ddf-252b-4359-82bc-adcd7afa4c44"
      },
      "source": [
        "%tensorflow_version 1.x\n",
        "!pip install gpt-2-simple\n",
        "import gpt_2_simple as gpt2"
      ],
      "execution_count": null,
      "outputs": [
        {
          "output_type": "stream",
          "text": [
            "TensorFlow 1.x selected.\n",
            "Collecting gpt-2-simple\n",
            "  Downloading https://files.pythonhosted.org/packages/e8/c9/44fe420225244ab9e3f2938a1d11651681078cf72f7444c66d0ea49f1320/gpt_2_simple-0.7.2.tar.gz\n",
            "Requirement already satisfied: regex in /usr/local/lib/python3.7/dist-packages (from gpt-2-simple) (2019.12.20)\n",
            "Requirement already satisfied: requests in /usr/local/lib/python3.7/dist-packages (from gpt-2-simple) (2.23.0)\n",
            "Requirement already satisfied: tqdm in /usr/local/lib/python3.7/dist-packages (from gpt-2-simple) (4.41.1)\n",
            "Requirement already satisfied: numpy in /usr/local/lib/python3.7/dist-packages (from gpt-2-simple) (1.19.5)\n",
            "Collecting toposort\n",
            "  Downloading https://files.pythonhosted.org/packages/f2/7d/55784e894ee0cde2474fb977ffd1651e74e840a9f92e1d847f7e3115d5ec/toposort-1.6-py2.py3-none-any.whl\n",
            "Requirement already satisfied: chardet<4,>=3.0.2 in /usr/local/lib/python3.7/dist-packages (from requests->gpt-2-simple) (3.0.4)\n",
            "Requirement already satisfied: idna<3,>=2.5 in /usr/local/lib/python3.7/dist-packages (from requests->gpt-2-simple) (2.10)\n",
            "Requirement already satisfied: urllib3!=1.25.0,!=1.25.1,<1.26,>=1.21.1 in /usr/local/lib/python3.7/dist-packages (from requests->gpt-2-simple) (1.24.3)\n",
            "Requirement already satisfied: certifi>=2017.4.17 in /usr/local/lib/python3.7/dist-packages (from requests->gpt-2-simple) (2020.12.5)\n",
            "Building wheels for collected packages: gpt-2-simple\n",
            "  Building wheel for gpt-2-simple (setup.py) ... \u001b[?25l\u001b[?25hdone\n",
            "  Created wheel for gpt-2-simple: filename=gpt_2_simple-0.7.2-cp37-none-any.whl size=23621 sha256=a5235e8e5ebe294ba5fc2392a70367d45da9d03ad19372cfca076d2e8a2eaeeb\n",
            "  Stored in directory: /root/.cache/pip/wheels/68/1d/15/c87a4302a6c7273ce1b4f282bec3c6877fb2f521535d87d30f\n",
            "Successfully built gpt-2-simple\n",
            "Installing collected packages: toposort, gpt-2-simple\n",
            "Successfully installed gpt-2-simple-0.7.2 toposort-1.6\n",
            "WARNING:tensorflow:\n",
            "The TensorFlow contrib module will not be included in TensorFlow 2.0.\n",
            "For more information, please see:\n",
            "  * https://github.com/tensorflow/community/blob/master/rfcs/20180907-contrib-sunset.md\n",
            "  * https://github.com/tensorflow/addons\n",
            "  * https://github.com/tensorflow/io (for I/O related ops)\n",
            "If you depend on functionality not listed there, please file an issue.\n",
            "\n"
          ],
          "name": "stdout"
        }
      ]
    },
    {
      "cell_type": "code",
      "metadata": {
        "colab": {
          "base_uri": "https://localhost:8080/"
        },
        "id": "kpfdWUb2t986",
        "outputId": "ca398970-7fca-4bb1-9719-d56acf0b01d7"
      },
      "source": [
        "gpt2.download_gpt2(model_name=\"124M\")"
      ],
      "execution_count": null,
      "outputs": [
        {
          "output_type": "stream",
          "text": [
            "Fetching checkpoint: 1.05Mit [00:00, 517Mit/s]                                                      \n",
            "Fetching encoder.json: 1.05Mit [00:00, 4.86Mit/s]\n",
            "Fetching hparams.json: 1.05Mit [00:00, 636Mit/s]                                                    \n",
            "Fetching model.ckpt.data-00000-of-00001: 498Mit [00:17, 28.9Mit/s]                                  \n",
            "Fetching model.ckpt.index: 1.05Mit [00:00, 580Mit/s]                                                \n",
            "Fetching model.ckpt.meta: 1.05Mit [00:00, 6.14Mit/s]\n",
            "Fetching vocab.bpe: 1.05Mit [00:00, 8.44Mit/s]\n"
          ],
          "name": "stderr"
        }
      ]
    },
    {
      "cell_type": "code",
      "metadata": {
        "id": "5TdONXrguFfo"
      },
      "source": [
        "file_name = 'Friends_Transcript.txt'"
      ],
      "execution_count": null,
      "outputs": []
    },
    {
      "cell_type": "code",
      "metadata": {
        "colab": {
          "base_uri": "https://localhost:8080/"
        },
        "id": "hgelFw-JukcC",
        "outputId": "bc0d3847-6fc0-4ca3-bcff-a8dc129728ab"
      },
      "source": [
        "sess = gpt2.start_tf_sess()\n",
        "\n",
        "gpt2.finetune(sess,\n",
        "              dataset=file_name,\n",
        "              model_name='124M',\n",
        "              steps=1500,\n",
        "              restore_from='fresh',\n",
        "              run_name='run1',\n",
        "              print_every=100,\n",
        "              sample_every=200,\n",
        "              save_every=100\n",
        "              )"
      ],
      "execution_count": null,
      "outputs": [
        {
          "output_type": "stream",
          "text": [
            "WARNING:tensorflow:From /usr/local/lib/python3.7/dist-packages/gpt_2_simple/src/sample.py:17: where (from tensorflow.python.ops.array_ops) is deprecated and will be removed in a future version.\n",
            "Instructions for updating:\n",
            "Use tf.where in 2.0, which has the same broadcast rule as np.where\n",
            "Loading checkpoint models/124M/model.ckpt\n",
            "INFO:tensorflow:Restoring parameters from models/124M/model.ckpt\n"
          ],
          "name": "stdout"
        },
        {
          "output_type": "stream",
          "text": [
            "\r  0%|          | 0/1 [00:00<?, ?it/s]"
          ],
          "name": "stderr"
        },
        {
          "output_type": "stream",
          "text": [
            "Loading dataset...\n"
          ],
          "name": "stdout"
        },
        {
          "output_type": "stream",
          "text": [
            "100%|██████████| 1/1 [00:07<00:00,  7.45s/it]\n"
          ],
          "name": "stderr"
        },
        {
          "output_type": "stream",
          "text": [
            "dataset has 1428868 tokens\n",
            "Training...\n",
            "[100 | 1277.97] loss=2.61 avg=2.61\n",
            "Saving checkpoint/run1/model-100\n",
            "[200 | 2586.57] loss=2.54 avg=2.57\n",
            "Saving checkpoint/run1/model-200\n",
            "WARNING:tensorflow:From /tensorflow-1.15.2/python3.7/tensorflow_core/python/training/saver.py:963: remove_checkpoint (from tensorflow.python.training.checkpoint_management) is deprecated and will be removed in a future version.\n",
            "Instructions for updating:\n",
            "Use standard file APIs to delete files with this prefix.\n",
            "======== SAMPLE 1 ========\n",
            " attacker: You're not funny.\n",
            "[Chandler: (to Monica) You're not funny.\n",
            "Monica: No, I'm sorry.\n",
            "(Phoebe takes the phone away and is very shocked.)\n",
            "Rachel: (to Chandler) Hey, Pheebs!\n",
            "Phoebe: What? What?\n",
            "Rachel: I mean, I mean, there you go. You keep telling my dad my name.\n",
            "Monica: Wow! What a big step forward! Now I never could get married, you know?\n",
            "Chandler: (looking into his eyes) Now, I do not.\n",
            "Monica: Oh!\n",
            "Chandler: Oh.\n",
            "Phoebe: Ohh! (Starts to move away.)\n",
            "Rachel: No, I can't get married!\n",
            "Monica: All right! You're not going to marry me!\n",
            "[Scene: The hospital. Rachel is on the operating table and we hear her parents.]\n",
            "Mrs. C.W.T.: I would appreciate it if we could talk to each other.\n",
            "Mr. H.T.: You would be so glad that you were alive.\n",
            "Rachel: Oh no!\n",
            "Mr. W.T.: So you're coming to visit me tonight. (Looks at Rachel.) You have something to say?\n",
            "Rachel: Oh well, you know what? You should come.\n",
            "Mr. W.W.T.: Okay.\n",
            "Rachel: Okay.\n",
            "(She and Phoebe walk towards the door.)\n",
            "Rachel: Oh what a beautiful room.\n",
            "Mr. W.W.T.: And what a gorgeous view.\n",
            "Phoebe: Huh! Wow!\n",
            "Rachel: Ugh! That's pretty much what I did. What I do for a living!\n",
            "Phoebe: Oh, you're really having fun with it! Your parents tell her I'm going to live in Atlanta!\n",
            "Mrs. H.T.: Oh, sure. I'll be there.\n",
            "Phoebe: Huh, okay, but what about them?\n",
            "Mrs. W.T.: Okay, well, I'd really rather that you were alive! They'd get really angry, and that would be a huge deal. (She nods.) I could do some serious damage.\n",
            "(They both look at them and Mrs. H.T. starts to run.)\n",
            "Mrs. W.T.: Umm, well, it doesn't make any difference.\n",
            "Phoebe: Huh!\n",
            "Mrs. H.T.: Yeah, you know what, you both might be really angry.\n",
            "Phoebe: (throws Monica in the freezer) Yes-yes!\n",
            "Mrs. H.T.: Yeah okay, you might be really angry.\n",
            "Monica: (from outside the bathroom) What, do you have something to say?\n",
            "Phoebe: Oh great.\n",
            "Mrs. H.T.: Good idea! Good idea, I'll get it!\n",
            "[Scene: Outside the hospital. Phoebe's parents are arriving.]\n",
            "Mrs. W.T.: Hey! Were having a baby here.\n",
            "Phoebe: That was my dad!\n",
            "(Phoebe walks towards the door, and she is trying to knock at the window.)\n",
            "Mrs. W.T. & Mr. W.Ct.: Hey\n",
            "Phoebe: Hi!\n",
            "Mrs. W.T.: Good call!\n",
            "(Throws Phoebe in the fridge.)\n",
            "Mrs. W.T.: Alright!\n",
            "(Monica comes out the windows window and Phoebe opens the fridge door to tell her parents.)\n",
            "Monica: (singing) Hello!\n",
            "Rachel: Hello baby!\n",
            "Monica: (singing) My sister!\n",
            "Phoebe: (singing) Is there a twin?!\n",
            "Monica: Oh no! She's just in the toilet!\n",
            "Joey: Hey, look out there baby! The kid is going to a party!\n",
            "(Phoebe goes to the bathroom but is stopped by the door.)\n",
            "Monica: Uh-ho! Hey, Monica! Come here come here! (Phoebe walks towards the door.)\n",
            "Phoebe: (starts to leave) Oh! Oh! Oh! Oh!\n",
            "Phoebe: Oh, look around! Oh! (Sewing dry as she runs past the doorway.) Oh hello! (Goes into the bathroom.)\n",
            "Monica: No, but you got to get here! My-my dad was on the phone!\n",
            "Phoebe: Sorry!\n",
            "Monica: (running over to the door) Yeah?\n",
            "Phoebe: Hey!\n",
            "Monica: You-you have a sister here, are you coming to a party?\n",
            "Phoebe: What?!\n",
            "Monica: Uh-ho!\n",
            "Phoebe: My parents are on the phone!\n",
            "Rachel: What?!\n",
            "Ross: (to Chandler on\n",
            "\n",
            "[300 | 4009.07] loss=2.44 avg=2.53\n",
            "Saving checkpoint/run1/model-300\n",
            "[400 | 5341.32] loss=2.32 avg=2.48\n",
            "Saving checkpoint/run1/model-400\n",
            "======== SAMPLE 1 ========\n",
            " did in her play, I am not going to let this happen!\n",
            "Paul: Well, when you were with her, you were so mad at yourself.\n",
            "Monica: Yes it was that.\n",
            "Paul: You and her?\n",
            "Monica: Oh my God! You are so good!\n",
            "Paul: Oh, I love you too! I love you! When were not together!\n",
            "Monica: You are so good! I mean look at the stars. Look at the stars!\n",
            "Paul: Yes.\n",
            "Monica: Okay. You got the first one we picked.\n",
            "(Ross enters)\n",
            "Ross: Hi!\n",
            "Monica: Hi.\n",
            "Ross: Hey!\n",
            "Monica: Hi!\n",
            "Ross: Oh no, thanks for letting you sleep with me last night.\n",
            "Ending Credits\n",
            "[Scene: Central Perk, Chandler and Monica are watching TV as Chandler approaches.]\n",
            "Chandler: Hey!\n",
            "Chandler: Hey!\n",
            "Monica: Hey!\n",
            "Chandler: Yeah, so I got my little surprise for you!\n",
            "Chandler: Thank you!\n",
            "Monica: Oh. Im so excited!\n",
            "Chandler: Oh, oh. Oh. Okay. How do I look at this: my whole face is covered with powder because of a tiny girl I found who is not like me.\n",
            "Monica: Oh, my little boy is gonna grow up. How about that?\n",
            "Chandler: That looks a lot brighter when grown-up!\n",
            "Monica: Well that is great! Chandler, that is great!\n",
            "Chandler: Hi! I-I just saw your face!\n",
            "(The girls all turn around to look at the TV and they all laugh)\n",
            "Opening Credits\n",
            "{Transcribers note: Since I did not see that, it seems as though a third-party source is also being used in this piece and while I cannot watch this, it would be nice if there were. So theres a third-party source in the works, and they should tell it to me. The idea here is that it doesnt get as stupid as it sounds.\n",
            "[Scene: Monica and Rachel's, Joey and Rachel are in the living room.]\n",
            "Rachel: Hey!\n",
            "Joey: Hey! How'd it go?\n",
            "Rachel: Oh it was really fun. We went up to the park, ate a whole turkey, and you guys got to get a little taste of everything.\n",
            "Joey: Yeah so we were just eating a whole turkey, and then you guys were just making out. This was so fun.\n",
            "Rachel: Oh, my God, Joey! He made me want to scream!\n",
            "Joey: Hey! All right, y'know why didn't you just get this one back?!\n",
            "Rachel: (jumping up in excitement) \"What is he staring at you?\"\n",
            "Joey: \"Umm\n",
            "Rachel: \"What?! Did I hear an egg?\"\n",
            "Joey: That would've been true. No, Joey? I heard somebody scream.\n",
            "Rachel: (jumping up in excitement) Why don't you hear Monica scream?! No, no, Ross and I both heard the scream. Joey, you never hear an egg scream, why not? I hear one scream. (Rachel just looks at each other) Now, if I were Ross, I would be making a good impression!\n",
            "Joey: (laughing) Okay, Ross and Amy are having sex. It's kind of funny since we were having sex.\n",
            "Ross: I think what I am is, is having sex! Or not having sex?!\n",
            "Rachel: No, no, that could be that. (They both look at each other and then look at each other and then look at the other and then go out.) Oh, come on. You look so excited.\n",
            "Rachel: Okay. You are not gonna come here now and scream! Okay? I just wanted to make sure I still had some good stuff to drink.\n",
            "Ross: Yeah, you are! You are sooo good at it!\n",
            "Rachel: Okay. (Pause) Why dont you just do it? Why dont you just have fun!\n",
            "Ross: What was the problem with Ross?\n",
            "Rachel: Uh, well, he is always in my head and sometimes it's just a, \"What are you guys doing? Did I hear this? Did I hear this? Did I hear this?\"\n",
            "Ross: Are you-are you insane?\n",
            "Rachel: No, no, yeah, yeah.\n",
            "Joey: Hey, do you like the sound of us having sex?\n",
            "Ross: No, I have some bad news.\n",
            "(He starts to leave)\n",
            "Joey: Hey! Ross! (Rachel comes back.)\n",
            "Ross: Hey!\n",
            "[Scene: Central Perk, Phoebe and Chandler are watching TV as Ross enters.]\n",
            "Ross: Hey!\n",
            "Phoebe: Hey! So you\n",
            "\n",
            "[500 | 6726.29] loss=2.26 avg=2.43\n",
            "Saving checkpoint/run1/model-500\n",
            "[600 | 8063.10] loss=2.31 avg=2.41\n",
            "Saving checkpoint/run1/model-600\n",
            "======== SAMPLE 1 ========\n",
            "Chica) You gotta do something! I-I-I-Im gonna be in this hall, I-I-I-Im not doing anything with my friends anymore! [She goes towards the couch and puts the blanket covering the couch around the couch on the back of the couch]\n",
            "Monica: Look at me Rach, I feel so lousy! I have been feeling all of this for eight years! And you know how these two-year-old girls make me feel every day? Look I would like to say, \"I am your mother\" and \"I am your father\".\n",
            "Rachel: (joining them from their couch) So, Monica, can you tell us about yourself?\n",
            "Phoebe: Yeah, I remember being all alone. I never really saw myself in time but I think I may look back and say I wish I was.\n",
            "Monica: So what are you doing right now?\n",
            "Phoebe: I dont know.\n",
            "Rachel: Really!\n",
            "Monica: So what do you?\n",
            "Phoebe: Theres no coffee, people are making out!\n",
            "Rachel: So what do you do?\n",
            "Phoebe: I dont know.\n",
            "Monica: Ok!\n",
            "Phoebe: (to Rachel) How hard will it be?\n",
            "Rachel: Ok!\n",
            "Phoebe: So we are at a head-start, we are getting divorced, you dont have to move to the suburbs!\n",
            "Rachel: Ok, you guys will be fine!\n",
            "Joey: We had a rough couple of weeks then, now Joey, can you talk a little more about what this means to you and your group?\n",
            "Chandler: Well, it just means being in love.\n",
            "Monica: I know, I know. But I just cant live without Chandler.\n",
            "Joey: Oh, ok. So we just got to go to New York and I-I just have to say I cant get married in New York.\n",
            "Phoebe: Well, you can't tell me that I dont love him, y'know it just means you know that hes in love! (Rachel hands Chandler the napkin).\n",
            "Monica: And all the love, y'know what? You know what? You can talk to Chandler tomorrow.\n",
            "Phoebe: Yeah okay. Good luck, buddy! (to Joey) Good luck! (to Chandler) What do you think?\n",
            "Chandler: Well, y'know Chandler, youre in love with me and I dont think you can ever go wrong with that.\n",
            "Joey: So you want me to go to New York with him?\n",
            "Chandler: You can, Im telling you right now you are getting divorced.\n",
            "Joey: Why, what about everyone?\n",
            "Monica: Well, were moving into the building.\n",
            "Chandler: All right. And you just dont even know what that means! I mean for your mom and me, were two people who dont know what it means to have a son, and who dont care how much they love him. I mean if you got divorced, y'know, your mom and me would just be like a stone age. My friends would be homeless, my grandmother would be in the street, our brothers and sisters would be in bed together, our brothers and sisters going to war, my sister going to jail, my sister getting divorced, my sisters getting shot!\n",
            "Joey: Okay. Now, we, we cant take this away from you, I mean, it just means that the whole family is gone!\n",
            "Chandler: Okay, I do have to tell Ross what it means. Ive been here three times now and I know what it means to be single! And its so humiliating! I mean I know for my whole life I was never gonna make it this time. And its really bad for my butt.\n",
            "Monica: You wanna go to the concert?\n",
            "Chandler: Yeah, see if I could give the tickets to the girl that went out with Ross.\n",
            "Monica: Hey! Youre in New York!\n",
            "Chandler: Yeah, I have to go.\n",
            "Monica: Ross has never been to a concert in his whole life.\n",
            "Phoebe: Chandler, what are you tellin me about the guy that makes you do bad things for nothing?\n",
            "Chandler: Well y'know the guy made us watch you do those bad things and then you let him down and now you go home thinking about how you didnt make it there because you were married to her instead of seeing you perform there.\n",
            "Monica: No? Because, you dont believe it.\n",
            "Phoebe: Yeah youll know, youll be fine. I mean there is no problem. I mean, you cant go to a concert and you dont know what it means.\n",
            "Monica: But then we didnt ask, you didnt tell us!\n",
            "Phoebe:\n",
            "\n",
            "[700 | 9433.32] loss=2.28 avg=2.39\n",
            "Saving checkpoint/run1/model-700\n",
            "[800 | 10775.10] loss=2.01 avg=2.34\n",
            "Saving checkpoint/run1/model-800\n",
            "======== SAMPLE 1 ========\n",
            " the scene with the baby.]\n",
            "Pete: We have an open mind about having a son, because I know he's going to be just like me. (He kisses her.)\n",
            "Rachel: Oh, Pheebs, we're so sorry. I'm just so sorry. No, just don't cry. There's so much to learn here. And I think we're all gonna be here tonight to learn and that it should be just the two of us.\n",
            "Pete: I can't believe our children are doing this.\n",
            "Ross: What does that mean?\n",
            "Pete: I don't know. I mean I'm just glad it's gonna work out between them.\n",
            "Phoebe: Oh, come on, how hard would it be to have a son and not worry about raising him with my wife? We're doing a great job!\n",
            "Pete: Yes, and we're doing exactly what we said if we were gonna get married!\n",
            "Ross: Pheebs, look I gotta tell you something. I think that we're doing a great job, I think we're putting great work ahead of our young kids. The good news is, the kid that comes, that wants to be parents, will be born.\n",
            "Pete: Uh-huh.\n",
            "Ross: (jokingly) No! (Pete waves his hand in front of Ross's face.\n",
            "Phoebe: Why?!\n",
            "Pete: Because you're pregnant! (He points his thumb to Rachel and then his finger.)\n",
            "Ross: (jokingly) No! (He points his thumb to Rachel and then his finger again.)\n",
            "[Cut back to the restaurant where Chandler is taking Rachel to the airport with the baby.]\n",
            "Chandler: (To the waiter) I want a plate.\n",
            "The Wines and Wines Attendant: You're not going to get a plate if we're leaving.\n",
            "Chandler: (To them) Are we leaving?\n",
            "The Wines and Wines Attendant: Yes, that's right! We're leaving.\n",
            "Chandler: I can't believe you guys leave!\n",
            "Pete: Really? We were thinking about our son.\n",
            "Pete: Oh. That's true. (Threateningly) I don't know why.\n",
            "Opening Credits\n",
            "[Scene: A hall in London, Ross and Rachel are returning from London and Joey enters.]\n",
            "Ross: Hey you guys. I think we were kinda getting back together.\n",
            "Joey: So uh, Ross, were uh, well, is it time for our big night out again?\n",
            "Ross: Yes, we are back! But, come on.\n",
            "Joey: Well, what are you guys gonna do together?\n",
            "Ross: Uh, we got to do something really big for each other, huh? What if I make sure Chandler and Emily have a place where they can hang out, where they can go to the movies, where they can come home after work, and then there's never a fight.\n",
            "Joey: You would just hang out and do it with us?\n",
            "Ross: Well, I didn't get to do it tonight.\n",
            "Joey: Yeah? Well, if we do the movie with you, I-I think we can do them in a big way. It would be easier to just hang out by herself or with Emily, y'know?\n",
            "Ross: I, I would hang out together in a big way. (He kisses her and they hug.) No. How you doin?\n",
            "Joey: No, I mean, you have to get over the things you didn't love. And I think it would be good for the party though.\n",
            "(Pause to mourn their passing.)\n",
            "Joey: Oh hey, Ross, listen, what would actually do with us?\n",
            "Ross: Well, it could be an engagement (He looks at the girl on the couch and glares at her.)\n",
            "[Scene: Monica and Rachel's, Chandler enters.]\n",
            "Chandler: Listen, can I have a bite to eat here?\n",
            "Monica: Yeah you do, if you want.\n",
            "Chandler: Ooh, I see a chick or a duck. (He walks over to the chick and the duck.) Oh, that's an egg and a pheasant. How much can I eat from that? Oh, that's a pretty good present too. See ya.\n",
            "Monica: Thank you.\n",
            "Chandler: So I should eat something now.\n",
            "Commercial Break\n",
            "[Scene: Central Perk, the gang is sitting and Joey, Monica and Chandler are returning from the party. Joey has a bowl of ice cream, then he goes over and grabs some.]\n",
            "Monica: Oh God! Do you think it's enough to have ice cream right here on the table?\n",
            "Joey: Maybe I'm a little too sophisticated for my new-found knowledge of ice cream, and I'm a little\n",
            "\n",
            "[900 | 12180.48] loss=2.19 avg=2.32\n",
            "Saving checkpoint/run1/model-900\n",
            "[1000 | 13525.71] loss=2.12 avg=2.30\n",
            "Saving checkpoint/run1/model-1000\n",
            "======== SAMPLE 1 ========\n",
            " kinda scared, but I dont. Do not.\n",
            "Chandler: We-we got to the part where you and I decide what is okay and what is not okay. Thats not what this is.\n",
            "Joey: Thats not what this is.\n",
            "Chandler: Not okay for you?\n",
            "Rachel: What is this?!\n",
            "Monica: I cant believe you can get pregnant without my knowledge and permission.\n",
            "Chandler: Ah but! Look you guys, this is not okay.\n",
            "Phoebe: It is okay.\n",
            "Monica: Yes it is. What?!\n",
            "All: Oh.\n",
            "Rachel: Noooooooo!!!!!\n",
            "Monica: Oh man! I-I didnt know this was gonna be this huge deal.\n",
            "(They all laugh at the awkwardness.)\n",
            "Rachel: I know.\n",
            "(Ross enters.)\n",
            "Ross: Hey! Listen, uh, you got some new clothes? Okay, um, did you guys make out last night?\n",
            "Chandler: Oh sure, great.\n",
            "Ross: (entering) Can I borrow some more?\n",
            "Monica: That was too weird uh, last night. (theyre all shocked) Oh no!\n",
            "Phoebe: Oh God, y-you did the face! Oh!\n",
            "Chandler: Oh, y-you didnt ask me.\n",
            "Ross: Yeah, but, oh!\n",
            "Monica: Well, I-I was thinking you guys liked each other and-and-and-and having fun, but-but theres no way to uh, settle into that relationship\n",
            "Chandler: I was not having fun.\n",
            "Ross: (to Chandler) I said fun.\n",
            "Phoebe: Now how is that gonna sound?\n",
            "Ross: Okay, thanks. (she goes to leave) Thanks, but-but not before I uh, I need to uh, get a boyfriend. (She goes away) Oh, but y-you dont wanna get like a grown-ups guy. Dont you?\n",
            "Chandler: (sarcastic) No thanks, I cant believe you did what you had to do to make this happen. (Rachel starts to cry.)\n",
            "Rachel: I know.\n",
            "Ross: No-no-no, shes right. This is terrible and I-I just cant handle it anymore.\n",
            "Chandler: Oh-oh, I cant do it huh?\n",
            "Monica: I dont want to handle it?\n",
            "Chandler: No, its okay, you don't have to.\n",
            "Rachel: Yes you do!\n",
            "Chandler: Yay!\n",
            "Ross: Yeah, you dont have to.\n",
            "Phoebe: Yeah-y-you can-you can?!\n",
            "Joey: Okay! Come on! (He starts kissing her)\n",
            "Chandler: (sad) Oh-no!\n",
            "Monica: I cant believe you did this! Oh My God look at that!\n",
            "Rachel: Come on! Its really great, I mean it is just one night!\n",
            "(Cream of joy burst forth from Rachels lips.)\n",
            "Chandler: You were really wonderful werent you?\n",
            "Monica: It was!\n",
            "Chandler: Oh it was!\n",
            "Ross: I love you so much!\n",
            "Chandler: Oh, I just have to get over this and-and go-go.\n",
            "All: No! No!\n",
            "Chandler: Yeah well-well-well!\n",
            "Joey: Well, now I-I-I know you love me.\n",
            "Ross: Oh, y-y-you mean like!\n",
            "Joey: Yeah.\n",
            "Ross: That means a lot to me\n",
            "Joey: Yeah!\n",
            "Ross: And to all!\n",
            "Chandler: Oh, y-you!\n",
            "Rachel: Yeah?\n",
            "Chandler: You?\n",
            "Joey: Yeah, well-well look-see youd be very happy for her.\n",
            "Chandler: Well-well-well!\n",
            "(There is an awkward silence as they both kiss.)\n",
            "Joey: Umm, see the thing is, I cant remember what-what it was you were saying?\n",
            "Ross: No, no-no-no! I never said anything.\n",
            "Chandler: Well, I have an idea.\n",
            "Ross: Oh, well-well-well.\n",
            "(They kiss.)\n",
            "Rachel: (starts kissing him harder) Come on!!\n",
            "Chandler: No-no-no, no, dont-don't! Come on! Go kiss him!!\n",
            "(They kiss.)\n",
            "Monica: Yeah! \n",
            "Joey: Yeah!!\n",
            "Rachel: Oh come on! I cant!\n",
            "Joey: Okay, its okay!\n",
            "Rachel: Yeah!\n",
            "Joey: Look, Im sure youve come a little bit too fast, but I really wanna, see you later.\n",
            "(\n",
            "\n",
            "[1100 | 14950.77] loss=2.12 avg=2.29\n",
            "Saving checkpoint/run1/model-1100\n",
            "[1200 | 16278.61] loss=1.67 avg=2.23\n",
            "Saving checkpoint/run1/model-1200\n",
            "======== SAMPLE 1 ========\n",
            " quit the phone? \n",
            "Ross: Oh, that was a great conversation.\n",
            "[Scene: The hospital, Rachel and Monica are still trying to figure out what to do about Joey. Phoebe approaches.]\n",
            "Phoebe: (Sees Rachel and Monica) Hey.\n",
            "Monica: Hey! Is she in labor?\n",
            "Phoebe: (Laughs.) No, she left her dress. No one was wearing my dress. I thought I was going to try on a dress (Monica) but then I realized that my boss just wanted to see the baby! Oh, he's gonna get so mad that I made a mistake and see if- if I'm going to do it right, I'd better get prepared.\n",
            "Rachel: Wait a minute! You can't have babies while I'm in labor.\n",
            "Phoebe: Oh my God! What did you say the first time you saw me?\n",
            "Rachel: Oh I said that when you saw me, I was all nervous.\n",
            "Monica: I knew you were nervous. What was the last thing I told you about yourself?\n",
            "Phoebe: No, only that I'd rather live inside a woman's body than outside.\n",
            "Monica: I could go back to that!\n",
            "Phoebe: Okay, now you know what you should do. If you don't think that you can take care of the baby, then you're totally right, OK, OK, and if you think that you can make it a woman who has integrity and love then you're totally wrong!\n",
            "Rachel: Phoebe! Pheebs!\n",
            "Phoebe: Uhhh, I mean how can you do this? I just want you to have the baby!\n",
            "Monica: I'm sorry, please stop! And I'm sorry to tell you this too, but I've had four babies, I've really wanted four babies! Oh, I can't. I've had six! I can't! I can't take care of the baby! I'm sick of having the baby! I think I've had it in the peepee!\n",
            "[Scene: Monica and Rachel's, continued from earlier.]\n",
            "Monica: I have to go and talk to Rachel for a little bit, she's the one who made me quit! And she wants to know if I'm okay with being an idiot!\n",
            "Rachel: Oh, Monica, I'm sorry. Monica, I'm sorry Monica. I think this is the wrong way to go. I mean if she's mad, she might fire me! Or just throw me out of the building! Or throw me off the plane! I should just stay here and deal with it! I should just have the baby! I should just go away for a bit! I think this baby needs a birth mom.\n",
            "Monica: You're right, I'm glad I had the baby, I want to raise it. The baby needs a mom! That's why I came. I want to be raised by one of them! I just don't have the emotional fortitude to say that. I mean, you're right here with me. (He sits down.) I cannot wait to see you!\n",
            "Phoebe: I'll see you later.\n",
            "(Joey enters, and sees Ross and Rachel at the hospital, and he hands Rachel a flower.)\n",
            "Joey: Good luck, lady.\n",
            "[Scene: Central Perk, Chandler, Phoebe, and Monica are sitting.]\n",
            "Monica: Oh Joey, good luck.\n",
            "Chandler: Oh please, come on! The baby would be so beautiful.\n",
            "Phoebe: That's not what I wrote. Just do it.\n",
            "Chandler: No you can't! No you don't, you must write! 'Wendy Long-Short Thought, wittie Long Short Thought' is a play about the end of a failed marriage. How long do you think it's gonna be after we've been on the couch?\n",
            "Joey: So maybe after two years?\n",
            "Phoebe: Oh my God, Chandler, the baby is coming.\n",
            "Chandler: Are you kidding? She can't keep a boy who's only been with her for four hours!\n",
            "Monica: (To Chandler) What are you, who can't keep a son? We're in love!\n",
            "Chandler: Hey, listen, Mon, I'm very sorry that I made things worse when we were together, but the baby is my baby! (She runs down the stairs.)\n",
            "Monica: She wants you both!\n",
            "(Phoebe puts a blanket on Joey's lap, then runs to tell him that Chandler has a baby.)\n",
            "Joey: Phoebe, you haven't told me a thing.\n",
            "Phoebe: Yeah, why? It's just that...\n",
            "Joey: Oh. Well, isn't that cute?\n",
            "Phoebe: No, oh I know\n",
            "\n",
            "[1300 | 17701.80] loss=1.82 avg=2.20\n",
            "Saving checkpoint/run1/model-1300\n",
            "[1400 | 19043.15] loss=1.82 avg=2.17\n",
            "Saving checkpoint/run1/model-1400\n",
            "======== SAMPLE 1 ========\n",
            "ica: (interrupts her) Ok, you do realize that your mom actually thinks you look like a human mare. We've had our share of pet peeves! Im one.  \n",
            "MONICA: (returning) I am. I'm sorry, I just had to say... \n",
            "ROSS: Hey.\n",
            "MONICA: (to Joey) Hi.\n",
            "JOEY: Hm?\n",
            "ROSS: You're never gonna make it on time?\n",
            "JOEY: That I wish I could. See, I have such a great time schedule, and I get to go to all these places and I get to talk to my girlfriends... I mean, that's pretty much it.\n",
            "MONICA: Ok you guys ready foreplay?\n",
            "PHOEBE: What about us?\n",
            "JOEY: We would take it really good.\n",
            "ALL: Yeah.\n",
            "PHOEBE: Ok, well, you're just gonna see what happens...\n",
            "JOEY: (mimes coming out of his bedroom, faking getting up) Ok, you guys ready foreplay?\n",
            "ALL: Yeah.\n",
            "PHOEBE: Ok, well, I'm just gonna...\n",
            "JOEY: Ok, I'm just gonna slip this under the table.\n",
            "PHOEBE: Ok, I'm ok, just slip this under. (in her hand she is the table with the little pink fruit flies thingy thing going under the table) Oh, is that a spider? I thought it was a toy.\n",
            "MONICA: Yeah.\n",
            "PHOEBE: And these little little little flying bugs look like tiny little flying bugs.\n",
            "MONICA: And is this the same Phoebe?\n",
            "JOEY: Oh, no.\n",
            "MONICA: You guys look so freaked out. I just figured, let's just throw him at the guy and see how it works out.\n",
            "JOEY: Oh, you know, I think he's a little flipper, ooh, what are you gonna do?\n",
            "ROSS: Well you're gonna let him sit in this chair.\n",
            "JOEY: Well, you're gonna let him lie down and, and then you're gonna put the chair in the chair so that he doesn't do that thing where you put your hand on his hip, and then you pull him out by his legs.\n",
            "MONICA: Ok you guys, can we ask you a question?\n",
            "ROSS: Yeah. Uh, would it be a problem if were sitting here?\n",
            "JOEY: Yes, it is a problem. Ok, I'll see you guys tomorrow.\n",
            "MONICA: (hopping popcorn) No, no, no, no, no, no, no.\n",
            "JOEY: (in a low voice) No, no, NO, NO, NO.\n",
            "ROSS: (high pitched) Ok, ok.\n",
            "MONICA: Ok.\n",
            "ROSS: (yelling) Is this our little secret? Is this some kind of entertainment? Who cares, we're serious if it really is bad, we'll throw it under the bus.\n",
            "CHANDLER: It would be so easy, if Phoebe was listening.\n",
            "ROSS: That woman would never stalk me.\n",
            "KENDALL: Oh, it can't be easy being with that other woman for so long.\n",
            "ROY: (entering) Hey, Monica?\n",
            "ROSS: Hey pal, I'm sorry I just couldn't be with you. Oh, I'm very touched by what you said to me.\n",
            "JOEY: Well, what did you say?\n",
            "ROSS: Well, we were talking about how we could go to the movies once in a while.\n",
            "JOEY: You mean like take a walk through the air of San Diego.\n",
            "ROY: (yells again) Yes, I do.\n",
            "JOEY: Ok, let's talk about a movie.\n",
            "JOEY: Oh yeah, no wait a minute! I can show you something else, we are so bored in here right now.\n",
            "ROSS: Uh, um, ok, um, Ok, ok. It's a musical number by the way. See, uhh, the band, the lyrics are: 'All life is an apple, and death an apple, and the mute eye, and, uhh--'\" (singing)\n",
            "PHOEBE: What? Huh? What are you saying?\n",
            "ROY: Ok. I've got issues going.\n",
            "PHOEBE: Oh yeah. Well, I just found out that Richard was cheating on Rachel.\n",
            "ROSS: You didn't tell me the band was cheating on you? \n",
            "PHOEBE: No, but it's kind of obvious. You guys, are you gay?\n",
            "JOEY: I'm not, but they're not my brothers, but they are.\n",
            "ROSS: And this, this is Richard?\n",
            "JOEY: Yeah, he told\n",
            "\n",
            "[1500 | 20458.64] loss=2.00 avg=2.16\n",
            "Saving checkpoint/run1/model-1500\n"
          ],
          "name": "stdout"
        }
      ]
    },
    {
      "cell_type": "code",
      "metadata": {
        "id": "-OSLboKEuoqM",
        "colab": {
          "base_uri": "https://localhost:8080/"
        },
        "outputId": "22294fdd-af72-4ce5-cbd8-3705b6807556"
      },
      "source": [
        "gpt2.generate(sess,\n",
        "              length=250,\n",
        "              temperature=0.7,\n",
        "              prefix=\"Mona broke up with Ross.\",\n",
        "              nsamples=1,\n",
        "              batch_size=1,\n",
        "              top_k=40\n",
        ")\n",
        "              "
      ],
      "execution_count": null,
      "outputs": [
        {
          "output_type": "stream",
          "text": [
            "Mona broke up with Ross.\n",
            "Monica: Oh, that's so great!\n",
            "Rachel: (she starts to cry) Ohh, I just cannot believe it. I-I know it's not my fault she broke up with him, but-but I mean that girl just-just didn't want to be around him anymore.\n",
            "Monica: Oh, that too be it.\n",
            "Rachel: (she starts to sob) But, but, I mean, look you guys, I know it's not for the best, but-but it's because you just, you're close, and-and-and I love you, and-and I think you're perfect for each other, and, and (she starts to cry again) and, and, I'm sorry, I'm sorry, I wish I could go back in time and change the subject, but... I don't know, I don't know...\n",
            "Monica: (starting to cry again) I'm sorry, I'm sorry, I'm sorry.\n",
            "Rachel: (crying) Yeah, I know. I'll be ok.\n",
            "Monica: (she turns to leave, but she has stopped moving) I'm so sorry.\n",
            "Rachel: Yeah.\n",
            "\n"
          ],
          "name": "stdout"
        }
      ]
    },
    {
      "cell_type": "code",
      "metadata": {
        "id": "aQFMz2LIIgPu"
      },
      "source": [
        "generated_script = gpt2.generate(sess,\n",
        "              length=350,\n",
        "              temperature=0.9,\n",
        "              prefix=\"Chandler and Monica finally decided to leave New York\",\n",
        "              nsamples=1,\n",
        "              batch_size=1,\n",
        "              top_k=30,\n",
        "              return_as_list=True\n",
        ")[0]\n",
        "              "
      ],
      "execution_count": null,
      "outputs": []
    },
    {
      "cell_type": "code",
      "metadata": {
        "colab": {
          "base_uri": "https://localhost:8080/"
        },
        "id": "ETiijaGTTyAu",
        "outputId": "47aadfdd-34eb-4023-8bb8-af651c170613"
      },
      "source": [
        "type(generated_script)"
      ],
      "execution_count": null,
      "outputs": [
        {
          "output_type": "execute_result",
          "data": {
            "text/plain": [
              "str"
            ]
          },
          "metadata": {
            "tags": []
          },
          "execution_count": 63
        }
      ]
    },
    {
      "cell_type": "code",
      "metadata": {
        "id": "tJ0kaGFHHyR0",
        "colab": {
          "base_uri": "https://localhost:8080/"
        },
        "outputId": "1032f3c8-2f72-43be-a124-fa02ef8fe3da"
      },
      "source": [
        "!pip install -q gradio\n",
        "!pip install -q git+https://github.com/huggingface/transformers.git"
      ],
      "execution_count": null,
      "outputs": [
        {
          "output_type": "stream",
          "text": [
            "\u001b[K     |████████████████████████████████| 1.1MB 7.0MB/s \n",
            "\u001b[K     |████████████████████████████████| 215kB 28.3MB/s \n",
            "\u001b[K     |████████████████████████████████| 1.9MB 25.8MB/s \n",
            "\u001b[K     |████████████████████████████████| 962kB 40.5MB/s \n",
            "\u001b[K     |████████████████████████████████| 3.2MB 42.5MB/s \n",
            "\u001b[K     |████████████████████████████████| 71kB 7.3MB/s \n",
            "\u001b[?25h  Building wheel for flask-cachebuster (setup.py) ... \u001b[?25l\u001b[?25hdone\n",
            "  Building wheel for ffmpy (setup.py) ... \u001b[?25l\u001b[?25hdone\n",
            "  Installing build dependencies ... \u001b[?25l\u001b[?25hdone\n",
            "  Getting requirements to build wheel ... \u001b[?25l\u001b[?25hdone\n",
            "    Preparing wheel metadata ... \u001b[?25l\u001b[?25hdone\n",
            "\u001b[K     |████████████████████████████████| 3.3MB 6.3MB/s \n",
            "\u001b[K     |████████████████████████████████| 901kB 41.1MB/s \n",
            "\u001b[?25h  Building wheel for transformers (PEP 517) ... \u001b[?25l\u001b[?25hdone\n"
          ],
          "name": "stdout"
        }
      ]
    },
    {
      "cell_type": "code",
      "metadata": {
        "id": "X-zRjb-2K6IT"
      },
      "source": [
        "def generating_text(initial_text):\n",
        "    return gpt2.generate(sess,\n",
        "              length=250,\n",
        "              temperature=0.7,\n",
        "              prefix= initial_text,\n",
        "              nsamples=1,\n",
        "              batch_size=1,\n",
        "              top_k=40,\n",
        "              return_as_list=True\n",
        ")[0]\n",
        "   \n",
        "\n",
        "\n"
      ],
      "execution_count": null,
      "outputs": []
    },
    {
      "cell_type": "code",
      "metadata": {
        "colab": {
          "base_uri": "https://localhost:8080/",
          "height": 638
        },
        "id": "W3C6-dRZE0Zl",
        "outputId": "f597a64d-c802-4b7a-8204-44140f85e779"
      },
      "source": [
        "def greet(name):\n",
        "    return \"Hello, my name is \" +  name\n",
        "\n",
        "iface = gr.Interface(greet,\"textbox\",\"textbox\")    \n",
        "iface.launch()"
      ],
      "execution_count": null,
      "outputs": [
        {
          "output_type": "stream",
          "text": [
            "Colab notebook detected. To show errors in colab notebook, set `debug=True` in `launch()`\n",
            "This share link will expire in 24 hours. If you need a permanent link, visit: https://gradio.app/introducing-hosted (NEW!)\n",
            "Running on External URL: https://58498.gradio.app\n",
            "Interface loading below...\n"
          ],
          "name": "stdout"
        },
        {
          "output_type": "display_data",
          "data": {
            "text/html": [
              "\n",
              "        <iframe\n",
              "            width=\"1000\"\n",
              "            height=\"500\"\n",
              "            src=\"https://58498.gradio.app\"\n",
              "            frameborder=\"0\"\n",
              "            allowfullscreen\n",
              "        ></iframe>\n",
              "        "
            ],
            "text/plain": [
              "<IPython.lib.display.IFrame at 0x7f2db12f8e50>"
            ]
          },
          "metadata": {
            "tags": []
          }
        },
        {
          "output_type": "execute_result",
          "data": {
            "text/plain": [
              "(<Flask 'gradio.networking'>,\n",
              " 'http://127.0.0.1:7873/',\n",
              " 'https://58498.gradio.app')"
            ]
          },
          "metadata": {
            "tags": []
          },
          "execution_count": 70
        }
      ]
    },
    {
      "cell_type": "code",
      "metadata": {
        "id": "onbFU9oZ7Mpd"
      },
      "source": [
        ""
      ],
      "execution_count": null,
      "outputs": []
    },
    {
      "cell_type": "code",
      "metadata": {
        "id": "6FkZsEiPJpg-"
      },
      "source": [
        "import gradio as gr\n",
        "import tensorflow as tf\n",
        "from transformers import TFGPT2LMHeadModel, GPT2Tokenizer"
      ],
      "execution_count": null,
      "outputs": []
    },
    {
      "cell_type": "code",
      "metadata": {
        "colab": {
          "base_uri": "https://localhost:8080/",
          "height": 638
        },
        "id": "8VGOpm20KQAW",
        "outputId": "a816810d-e09e-47e0-8517-f2111e01a0be"
      },
      "source": [
        "output_text = gr.outputs.Textbox()\n",
        "#gr.Interface(generating_text,\"textbox\", output_text, title=\"GPT2 Finetune\",\n",
        "             #description=\"I finetuned GPT-2 on Friends script.\").launch()\n",
        "gr.Interface(generating_text,\"text\", \"text\",capture_session=True).launch()"
      ],
      "execution_count": 13,
      "outputs": [
        {
          "output_type": "stream",
          "text": [
            "Colab notebook detected. To show errors in colab notebook, set `debug=True` in `launch()`\n",
            "This share link will expire in 24 hours. If you need a permanent link, visit: https://gradio.app/introducing-hosted (NEW!)\n",
            "Running on External URL: https://39292.gradio.app\n",
            "Interface loading below...\n"
          ],
          "name": "stdout"
        },
        {
          "output_type": "display_data",
          "data": {
            "text/html": [
              "\n",
              "        <iframe\n",
              "            width=\"1000\"\n",
              "            height=\"500\"\n",
              "            src=\"https://39292.gradio.app\"\n",
              "            frameborder=\"0\"\n",
              "            allowfullscreen\n",
              "        ></iframe>\n",
              "        "
            ],
            "text/plain": [
              "<IPython.lib.display.IFrame at 0x7f58c6282ed0>"
            ]
          },
          "metadata": {
            "tags": []
          }
        },
        {
          "output_type": "execute_result",
          "data": {
            "text/plain": [
              "(<Flask 'gradio.networking'>,\n",
              " 'http://127.0.0.1:7861/',\n",
              " 'https://39292.gradio.app')"
            ]
          },
          "metadata": {
            "tags": []
          },
          "execution_count": 13
        }
      ]
    },
    {
      "cell_type": "code",
      "metadata": {
        "id": "-N1ojigfLsXW"
      },
      "source": [
        ""
      ],
      "execution_count": null,
      "outputs": []
    },
    {
      "cell_type": "code",
      "metadata": {
        "colab": {
          "base_uri": "https://localhost:8080/"
        },
        "id": "tnjGMmpI7OEh",
        "outputId": "7f19e9e6-acb4-4646-9bf3-591cb24a0c37"
      },
      "source": [
        "!zip -r /content/file.zip /content/\n"
      ],
      "execution_count": 18,
      "outputs": [
        {
          "output_type": "stream",
          "text": [
            "updating: content/models/ (stored 0%)\n",
            "updating: content/models/124M/ (stored 0%)\n",
            "updating: content/models/124M/hparams.json (deflated 28%)\n",
            "updating: content/models/124M/model.ckpt.index (deflated 62%)\n",
            "updating: content/models/124M/checkpoint (deflated 42%)\n",
            "updating: content/models/124M/vocab.bpe (deflated 53%)\n",
            "updating: content/models/124M/model.ckpt.data-00000-of-00001 (deflated 7%)\n",
            "updating: content/models/124M/encoder.json (deflated 67%)\n",
            "updating: content/models/124M/model.ckpt.meta (deflated 91%)\n",
            "  adding: content/ (stored 0%)\n",
            "  adding: content/.config/ (stored 0%)\n",
            "  adding: content/.config/.last_update_check.json (deflated 23%)\n",
            "  adding: content/.config/.last_opt_in_prompt.yaml (stored 0%)\n",
            "  adding: content/.config/active_config (stored 0%)\n",
            "  adding: content/.config/config_sentinel (stored 0%)\n",
            "  adding: content/.config/.last_survey_prompt.yaml (stored 0%)\n",
            "  adding: content/.config/configurations/ (stored 0%)\n",
            "  adding: content/.config/configurations/config_default (deflated 15%)\n",
            "  adding: content/.config/logs/ (stored 0%)\n",
            "  adding: content/.config/logs/2021.05.06/ (stored 0%)\n",
            "  adding: content/.config/logs/2021.05.06/13.44.00.991142.log (deflated 54%)\n",
            "  adding: content/.config/logs/2021.05.06/13.43.23.909017.log (deflated 54%)\n",
            "  adding: content/.config/logs/2021.05.06/13.44.01.543195.log (deflated 53%)\n",
            "  adding: content/.config/logs/2021.05.06/13.43.04.692209.log (deflated 91%)\n",
            "  adding: content/.config/logs/2021.05.06/13.43.39.026092.log (deflated 86%)\n",
            "  adding: content/.config/logs/2021.05.06/13.43.44.620859.log (deflated 53%)\n",
            "  adding: content/.config/gce (stored 0%)\n",
            "  adding: content/Friends_Transcript.txt (deflated 65%)\n",
            "  adding: content/checkpoint/ (stored 0%)\n",
            "  adding: content/checkpoint/run1/ (stored 0%)\n",
            "  adding: content/checkpoint/run1/hparams.json (deflated 28%)\n",
            "  adding: content/checkpoint/run1/checkpoint (deflated 40%)\n",
            "  adding: content/checkpoint/run1/vocab.bpe (deflated 53%)\n",
            "  adding: content/checkpoint/run1/events.out.tfevents.1620639864.7dcee0992def (deflated 60%)\n",
            "  adding: content/checkpoint/run1/encoder.json (deflated 67%)\n",
            "  adding: content/checkpoint/run1/model-1500.index (deflated 62%)\n",
            "  adding: content/checkpoint/run1/model-1500.meta (deflated 91%)\n",
            "  adding: content/checkpoint/run1/model-1500.data-00000-of-00001 (deflated 7%)\n",
            "  adding: content/checkpoint/run1/counter (stored 0%)\n",
            "  adding: content/samples/ (stored 0%)\n",
            "  adding: content/samples/run1/ (stored 0%)\n",
            "  adding: content/samples/run1/samples-601 (deflated 58%)\n",
            "  adding: content/samples/run1/samples-801 (deflated 55%)\n",
            "  adding: content/samples/run1/samples-1201 (deflated 54%)\n",
            "  adding: content/samples/run1/samples-1001 (deflated 56%)\n",
            "  adding: content/samples/run1/samples-201 (deflated 57%)\n",
            "  adding: content/samples/run1/samples-1401 (deflated 53%)\n",
            "  adding: content/samples/run1/samples-401 (deflated 56%)\n",
            "  adding: content/flagged/ (stored 0%)\n",
            "  adding: content/sample_data/ (stored 0%)\n",
            "  adding: content/sample_data/anscombe.json (deflated 83%)\n",
            "  adding: content/sample_data/README.md (deflated 42%)\n",
            "  adding: content/sample_data/california_housing_test.csv (deflated 76%)\n",
            "  adding: content/sample_data/mnist_test.csv (deflated 88%)\n",
            "  adding: content/sample_data/california_housing_train.csv (deflated 79%)\n",
            "  adding: content/sample_data/mnist_train_small.csv (deflated 88%)\n"
          ],
          "name": "stdout"
        }
      ]
    },
    {
      "cell_type": "markdown",
      "metadata": {
        "id": "6omsGzbD52IL"
      },
      "source": [
        "# New Section"
      ]
    },
    {
      "cell_type": "code",
      "metadata": {
        "colab": {
          "base_uri": "https://localhost:8080/",
          "height": 17
        },
        "id": "dB8gYJAB7t5u",
        "outputId": "0dadb50a-ab7c-4b5b-d714-e3c8ab39be33"
      },
      "source": [
        "from google.colab import files\n",
        "files.download(\"/content/file.zip\")"
      ],
      "execution_count": 19,
      "outputs": [
        {
          "output_type": "display_data",
          "data": {
            "application/javascript": [
              "\n",
              "    async function download(id, filename, size) {\n",
              "      if (!google.colab.kernel.accessAllowed) {\n",
              "        return;\n",
              "      }\n",
              "      const div = document.createElement('div');\n",
              "      const label = document.createElement('label');\n",
              "      label.textContent = `Downloading \"${filename}\": `;\n",
              "      div.appendChild(label);\n",
              "      const progress = document.createElement('progress');\n",
              "      progress.max = size;\n",
              "      div.appendChild(progress);\n",
              "      document.body.appendChild(div);\n",
              "\n",
              "      const buffers = [];\n",
              "      let downloaded = 0;\n",
              "\n",
              "      const channel = await google.colab.kernel.comms.open(id);\n",
              "      // Send a message to notify the kernel that we're ready.\n",
              "      channel.send({})\n",
              "\n",
              "      for await (const message of channel.messages) {\n",
              "        // Send a message to notify the kernel that we're ready.\n",
              "        channel.send({})\n",
              "        if (message.buffers) {\n",
              "          for (const buffer of message.buffers) {\n",
              "            buffers.push(buffer);\n",
              "            downloaded += buffer.byteLength;\n",
              "            progress.value = downloaded;\n",
              "          }\n",
              "        }\n",
              "      }\n",
              "      const blob = new Blob(buffers, {type: 'application/binary'});\n",
              "      const a = document.createElement('a');\n",
              "      a.href = window.URL.createObjectURL(blob);\n",
              "      a.download = filename;\n",
              "      div.appendChild(a);\n",
              "      a.click();\n",
              "      div.remove();\n",
              "    }\n",
              "  "
            ],
            "text/plain": [
              "<IPython.core.display.Javascript object>"
            ]
          },
          "metadata": {
            "tags": []
          }
        },
        {
          "output_type": "display_data",
          "data": {
            "application/javascript": [
              "download(\"download_e991501d-c0e5-4a87-a740-94631b399dd0\", \"file.zip\", 935045747)"
            ],
            "text/plain": [
              "<IPython.core.display.Javascript object>"
            ]
          },
          "metadata": {
            "tags": []
          }
        }
      ]
    },
    {
      "cell_type": "code",
      "metadata": {
        "colab": {
          "base_uri": "https://localhost:8080/"
        },
        "id": "-v8Li3WZ7weL",
        "outputId": "37502608-f0a8-4929-9df5-da1e80a168ef"
      },
      "source": [
        "from google.colab import drive\n",
        "drive.mount('/content/drive')"
      ],
      "execution_count": 21,
      "outputs": [
        {
          "output_type": "stream",
          "text": [
            "Mounted at /content/drive\n"
          ],
          "name": "stdout"
        }
      ]
    },
    {
      "cell_type": "code",
      "metadata": {
        "id": "OBIwBGatC46g"
      },
      "source": [
        ""
      ],
      "execution_count": null,
      "outputs": []
    }
  ]
}